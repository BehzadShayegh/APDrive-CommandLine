{
  "nbformat": 4,
  "nbformat_minor": 0,
  "metadata": {
    "colab": {
      "name": "ZillowPrize1_1.ipynb",
      "version": "0.3.2",
      "provenance": [],
      "collapsed_sections": [
        "XhbpDUNXjJwB"
      ],
      "toc_visible": true,
      "include_colab_link": true
    },
    "kernelspec": {
      "name": "python3",
      "display_name": "Python 3"
    }
  },
  "cells": [
    {
      "cell_type": "markdown",
      "metadata": {
        "id": "view-in-github",
        "colab_type": "text"
      },
      "source": [
        "<a href=\"https://colab.research.google.com/github/BehzadShayegh/APDrive-CommandLine/blob/master/ZillowPrize1_1.ipynb\" target=\"_parent\"><img src=\"https://colab.research.google.com/assets/colab-badge.svg\" alt=\"Open In Colab\"/></a>"
      ]
    },
    {
      "cell_type": "markdown",
      "metadata": {
        "id": "vCBx7aZ3dJ3p",
        "colab_type": "text"
      },
      "source": [
        "## Requirements to begin"
      ]
    },
    {
      "cell_type": "code",
      "metadata": {
        "id": "l63dgtLtcWly",
        "colab_type": "code",
        "colab": {}
      },
      "source": [
        "%reload_ext autoreload\n",
        "%autoreload 2\n",
        "%matplotlib inline"
      ],
      "execution_count": 0,
      "outputs": []
    },
    {
      "cell_type": "markdown",
      "metadata": {
        "id": "XhbpDUNXjJwB",
        "colab_type": "text"
      },
      "source": [
        "### Download Data with API"
      ]
    },
    {
      "cell_type": "code",
      "metadata": {
        "id": "YzYD1gCmhft5",
        "colab_type": "code",
        "colab": {}
      },
      "source": [
        "# !pip install -U -q kaggle\n",
        "# !mkdir -p ~/.kaggle"
      ],
      "execution_count": 0,
      "outputs": []
    },
    {
      "cell_type": "code",
      "metadata": {
        "id": "lkv1YBjUhq5G",
        "colab_type": "code",
        "colab": {}
      },
      "source": [
        "# from google.colab import files\n",
        "# files.upload()"
      ],
      "execution_count": 0,
      "outputs": []
    },
    {
      "cell_type": "code",
      "metadata": {
        "id": "IAuKNsEhiBZW",
        "colab_type": "code",
        "colab": {}
      },
      "source": [
        "# !cp kaggle.json ~/.kaggle/"
      ],
      "execution_count": 0,
      "outputs": []
    },
    {
      "cell_type": "code",
      "metadata": {
        "id": "vRFsN8mxiKHG",
        "colab_type": "code",
        "colab": {}
      },
      "source": [
        "# !kaggle datasets list"
      ],
      "execution_count": 0,
      "outputs": []
    },
    {
      "cell_type": "code",
      "metadata": {
        "id": "jhH5T8mWinIO",
        "colab_type": "code",
        "colab": {}
      },
      "source": [
        "# !kaggle competitions download -c zillow-prize-1\n",
        "# !ls\n",
        "# DATA_PATH = './'"
      ],
      "execution_count": 0,
      "outputs": []
    },
    {
      "cell_type": "markdown",
      "metadata": {
        "id": "tkfQ2CafudiI",
        "colab_type": "text"
      },
      "source": [
        "### Load Data from Drive"
      ]
    },
    {
      "cell_type": "code",
      "metadata": {
        "id": "2KiFHQA7uper",
        "colab_type": "code",
        "colab": {}
      },
      "source": [
        "from google.colab import drive\n",
        "drive.mount('/content/drive')"
      ],
      "execution_count": 0,
      "outputs": []
    },
    {
      "cell_type": "code",
      "metadata": {
        "id": "Jjmsn-YHu0H9",
        "colab_type": "code",
        "colab": {}
      },
      "source": [
        "!pip3 install pydrive\n",
        "\n",
        "from pydrive.auth import GoogleAuth\n",
        "from pydrive.drive import GoogleDrive\n",
        "from google.colab import auth\n",
        "from oauth2client.client import GoogleCredentials\n",
        "\n",
        "auth.authenticate_user()\n",
        "gauth = GoogleAuth()\n",
        "gauth.credentials = GoogleCredentials.get_application_default()\n",
        "drive = GoogleDrive(gauth)"
      ],
      "execution_count": 0,
      "outputs": []
    },
    {
      "cell_type": "code",
      "metadata": {
        "id": "bYKjBiI6u6RU",
        "colab_type": "code",
        "colab": {}
      },
      "source": [
        "DATA_PATH = './drive/My Drive/'"
      ],
      "execution_count": 0,
      "outputs": []
    },
    {
      "cell_type": "markdown",
      "metadata": {
        "id": "18VlEClpvsM_",
        "colab_type": "text"
      },
      "source": [
        "### Unzip and read Data"
      ]
    },
    {
      "cell_type": "code",
      "metadata": {
        "id": "xEUu056dwliD",
        "colab_type": "code",
        "colab": {}
      },
      "source": [
        "ZIP_NAME = 'zillow-prize-1.zip'"
      ],
      "execution_count": 0,
      "outputs": []
    },
    {
      "cell_type": "code",
      "metadata": {
        "id": "1ZjEUr6Ai_Ps",
        "colab_type": "code",
        "colab": {
          "base_uri": "https://localhost:8080/",
          "height": 104
        },
        "outputId": "e5c007cc-6302-4f87-d740-566790a9129d"
      },
      "source": [
        "import pandas as pd\n",
        "from zipfile import ZipFile\n",
        "\n",
        "zip_file = ZipFile(DATA_PATH+ZIP_NAME)\n",
        "\n",
        "path_train_2016 = 'train_2016_v2.csv'\n",
        "path_train_2017 = 'train_2017.csv'\n",
        "path_properties_2016 = 'properties_2016.csv'\n",
        "path_properties_2017 = 'properties_2017.csv'\n",
        "\n",
        "train_2016 = pd.read_csv(zip_file.open(path_train_2016))\n",
        "train_2017 = pd.read_csv(zip_file.open(path_train_2017))\n",
        "properties_2016 = pd.read_csv(zip_file.open(path_properties_2016))\n",
        "properties_2017 = pd.read_csv(zip_file.open(path_properties_2017))"
      ],
      "execution_count": 6,
      "outputs": [
        {
          "output_type": "stream",
          "text": [
            "/usr/local/lib/python3.6/dist-packages/IPython/core/interactiveshell.py:2718: DtypeWarning: Columns (22,32,34,49,55) have mixed types. Specify dtype option on import or set low_memory=False.\n",
            "  interactivity=interactivity, compiler=compiler, result=result)\n",
            "/usr/local/lib/python3.6/dist-packages/IPython/core/interactiveshell.py:2718: DtypeWarning: Columns (49) have mixed types. Specify dtype option on import or set low_memory=False.\n",
            "  interactivity=interactivity, compiler=compiler, result=result)\n"
          ],
          "name": "stderr"
        }
      ]
    },
    {
      "cell_type": "markdown",
      "metadata": {
        "id": "AcDgfKkXaSTf",
        "colab_type": "text"
      },
      "source": [
        "### Initial analysis"
      ]
    },
    {
      "cell_type": "markdown",
      "metadata": {
        "id": "XqvPiDTQagTQ",
        "colab_type": "text"
      },
      "source": [
        "#### 2016"
      ]
    },
    {
      "cell_type": "code",
      "metadata": {
        "id": "ReQ7vkqyeRO3",
        "colab_type": "code",
        "colab": {}
      },
      "source": [
        "units_number_2016, cols_number = properties_2016.shape"
      ],
      "execution_count": 0,
      "outputs": []
    },
    {
      "cell_type": "code",
      "metadata": {
        "id": "bwXi1Ki5acMf",
        "colab_type": "code",
        "colab": {
          "base_uri": "https://localhost:8080/",
          "height": 1000
        },
        "outputId": "f11d3fc7-0f00-401a-c723-d56caa8895b0"
      },
      "source": [
        "completenes_edge = 40\n",
        "most_complete_cols_2016 = []\n",
        "\n",
        "print('columns incomplete rates :\\n')\n",
        "for col in properties_2016.columns :\n",
        "  incomplete_rate = properties_2016[col].isna().sum()\n",
        "  incomplete_percent = incomplete_rate * 100 / units_number_2016\n",
        "  print(col, ':', incomplete_percent, '%')\n",
        "  if incomplete_percent < completenes_edge :\n",
        "    most_complete_cols_2016.append(col)\n",
        "\n",
        "most_complete_cols_2016 = most_complete_cols_2016[1:]"
      ],
      "execution_count": 47,
      "outputs": [
        {
          "output_type": "stream",
          "text": [
            "columns complete rates :\n",
            "\n",
            "airconditioningtypeid : 72.81541006901676 %\n",
            "architecturalstyletypeid : 99.79696618369786 %\n",
            "basementsqft : 99.94546460106585 %\n",
            "bathroomcnt : 0.38395868709041925 %\n",
            "bedroomcnt : 0.3835567062628948 %\n",
            "buildingclasstypeid : 99.57694867743282 %\n",
            "buildingqualitytypeid : 35.06374913448503 %\n",
            "calculatedbathnbr : 4.3183460364857895 %\n",
            "decktypeid : 99.42731131438686 %\n",
            "finishedfloor1squarefeet : 93.20930438222749 %\n",
            "calculatedfinishedsquarefeet : 1.861338723449585 %\n",
            "finishedsquarefeet12 : 9.24666448033761 %\n",
            "finishedsquarefeet13 : 99.74300025760272 %\n",
            "finishedsquarefeet15 : 93.60857183916613 %\n",
            "finishedsquarefeet50 : 93.20930438222749 %\n",
            "finishedsquarefeet6 : 99.26300165113625 %\n",
            "fips : 0.38312122703307666 %\n",
            "fireplacecnt : 89.5271600021037 %\n",
            "fullbathcnt : 4.3183460364857895 %\n",
            "garagecarcnt : 70.41196670124819 %\n",
            "garagetotalsqft : 70.41196670124819 %\n",
            "hashottuborspa : 97.68814126410241 %\n",
            "heatingorsystemtypeid : 39.488452598253325 %\n",
            "latitude : 0.38312122703307666 %\n",
            "longitude : 0.38312122703307666 %\n",
            "lotsizesquarefeet : 9.248875374888994 %\n",
            "poolcnt : 82.66343786733091 %\n",
            "poolsizesum : 99.06338467186808 %\n",
            "pooltypeid10 : 98.76260251767292 %\n",
            "pooltypeid2 : 98.9255387464295 %\n",
            "pooltypeid7 : 83.73789912090143 %\n",
            "propertycountylandusecode : 0.4112598849597868 %\n",
            "propertylandusetypeid : 0.38312122703307666 %\n",
            "propertyzoningdesc : 33.71908976801352 %\n",
            "rawcensustractandblock : 0.38312122703307666 %\n",
            "regionidcity : 2.10520709214774 %\n",
            "regionidcounty : 0.38312122703307666 %\n",
            "regionidneighborhood : 61.26238059075772 %\n",
            "regionidzip : 0.46830766406596236 %\n",
            "roomcnt : 0.3843941663202374 %\n",
            "storytypeid : 99.94559859467503 %\n",
            "threequarterbathnbr : 89.56085939481116 %\n",
            "typeconstructiontypeid : 99.77398627972438 %\n",
            "unitcnt : 33.75724444822604 %\n",
            "yardbuildingsqft17 : 97.30823588368953 %\n",
            "yardbuildingsqft26 : 99.91132972912857 %\n",
            "yearbuilt : 2.0074922526570096 %\n",
            "numberofstories : 77.15177824593655 %\n",
            "fireplaceflag : 99.82704774895761 %\n",
            "structuretaxvaluedollarcnt : 1.8418091549123565 %\n",
            "taxvaluedollarcnt : 1.4253570175970458 %\n",
            "assessmentyear : 0.38318822383766404 %\n",
            "landtaxvaluedollarcnt : 2.2689472825593584 %\n",
            "taxamount : 1.0468250716782064 %\n",
            "taxdelinquencyflag : 98.10861320969296 %\n",
            "taxdelinquencyyear : 98.10854621288837 %\n",
            "censustractandblock : 2.5166009707167016 %\n"
          ],
          "name": "stdout"
        }
      ]
    },
    {
      "cell_type": "code",
      "metadata": {
        "id": "jnZZa-xKgZbJ",
        "colab_type": "code",
        "colab": {
          "base_uri": "https://localhost:8080/",
          "height": 521
        },
        "outputId": "d969b139-226a-4e45-e6d3-84768eaf678a"
      },
      "source": [
        "print('most complete cols (with', completenes_edge,'% rate ) :\\n')\n",
        "for col in most_complete_cols_2016 : print(col)"
      ],
      "execution_count": 21,
      "outputs": [
        {
          "output_type": "stream",
          "text": [
            "most complete cols (with 40 % rate ) :\n",
            "parcelid\n",
            "bathroomcnt\n",
            "bedroomcnt\n",
            "buildingqualitytypeid\n",
            "calculatedbathnbr\n",
            "calculatedfinishedsquarefeet\n",
            "finishedsquarefeet12\n",
            "fips\n",
            "fullbathcnt\n",
            "heatingorsystemtypeid\n",
            "latitude\n",
            "longitude\n",
            "lotsizesquarefeet\n",
            "propertycountylandusecode\n",
            "propertylandusetypeid\n",
            "propertyzoningdesc\n",
            "rawcensustractandblock\n",
            "regionidcity\n",
            "regionidcounty\n",
            "regionidzip\n",
            "roomcnt\n",
            "unitcnt\n",
            "yearbuilt\n",
            "structuretaxvaluedollarcnt\n",
            "taxvaluedollarcnt\n",
            "assessmentyear\n",
            "landtaxvaluedollarcnt\n",
            "taxamount\n",
            "censustractandblock\n"
          ],
          "name": "stdout"
        }
      ]
    },
    {
      "cell_type": "code",
      "metadata": {
        "id": "liCz202uhbEY",
        "colab_type": "code",
        "colab": {
          "base_uri": "https://localhost:8080/",
          "height": 690
        },
        "outputId": "69e7f19c-5798-4a1e-f1f9-ea84c05a0321"
      },
      "source": [
        "properties_2016.set_index('parcelid', inplace=True)"
      ],
      "execution_count": 59,
      "outputs": [
        {
          "output_type": "error",
          "ename": "KeyError",
          "evalue": "ignored",
          "traceback": [
            "\u001b[0;31m---------------------------------------------------------------------------\u001b[0m",
            "\u001b[0;31mKeyError\u001b[0m                                  Traceback (most recent call last)",
            "\u001b[0;32m/usr/local/lib/python3.6/dist-packages/pandas/core/indexes/base.py\u001b[0m in \u001b[0;36mget_loc\u001b[0;34m(self, key, method, tolerance)\u001b[0m\n\u001b[1;32m   2656\u001b[0m             \u001b[0;32mtry\u001b[0m\u001b[0;34m:\u001b[0m\u001b[0;34m\u001b[0m\u001b[0;34m\u001b[0m\u001b[0m\n\u001b[0;32m-> 2657\u001b[0;31m                 \u001b[0;32mreturn\u001b[0m \u001b[0mself\u001b[0m\u001b[0;34m.\u001b[0m\u001b[0m_engine\u001b[0m\u001b[0;34m.\u001b[0m\u001b[0mget_loc\u001b[0m\u001b[0;34m(\u001b[0m\u001b[0mkey\u001b[0m\u001b[0;34m)\u001b[0m\u001b[0;34m\u001b[0m\u001b[0;34m\u001b[0m\u001b[0m\n\u001b[0m\u001b[1;32m   2658\u001b[0m             \u001b[0;32mexcept\u001b[0m \u001b[0mKeyError\u001b[0m\u001b[0;34m:\u001b[0m\u001b[0;34m\u001b[0m\u001b[0;34m\u001b[0m\u001b[0m\n",
            "\u001b[0;32mpandas/_libs/index.pyx\u001b[0m in \u001b[0;36mpandas._libs.index.IndexEngine.get_loc\u001b[0;34m()\u001b[0m\n",
            "\u001b[0;32mpandas/_libs/index.pyx\u001b[0m in \u001b[0;36mpandas._libs.index.IndexEngine.get_loc\u001b[0;34m()\u001b[0m\n",
            "\u001b[0;32mpandas/_libs/hashtable_class_helper.pxi\u001b[0m in \u001b[0;36mpandas._libs.hashtable.PyObjectHashTable.get_item\u001b[0;34m()\u001b[0m\n",
            "\u001b[0;32mpandas/_libs/hashtable_class_helper.pxi\u001b[0m in \u001b[0;36mpandas._libs.hashtable.PyObjectHashTable.get_item\u001b[0;34m()\u001b[0m\n",
            "\u001b[0;31mKeyError\u001b[0m: 'parcelid'",
            "\nDuring handling of the above exception, another exception occurred:\n",
            "\u001b[0;31mKeyError\u001b[0m                                  Traceback (most recent call last)",
            "\u001b[0;32m<ipython-input-59-23ad37710c28>\u001b[0m in \u001b[0;36m<module>\u001b[0;34m()\u001b[0m\n\u001b[0;32m----> 1\u001b[0;31m \u001b[0mproperties_2016\u001b[0m\u001b[0;34m.\u001b[0m\u001b[0mset_index\u001b[0m\u001b[0;34m(\u001b[0m\u001b[0;34m'parcelid'\u001b[0m\u001b[0;34m,\u001b[0m \u001b[0minplace\u001b[0m\u001b[0;34m=\u001b[0m\u001b[0;32mTrue\u001b[0m\u001b[0;34m)\u001b[0m\u001b[0;34m\u001b[0m\u001b[0;34m\u001b[0m\u001b[0m\n\u001b[0m",
            "\u001b[0;32m/usr/local/lib/python3.6/dist-packages/pandas/core/frame.py\u001b[0m in \u001b[0;36mset_index\u001b[0;34m(self, keys, drop, append, inplace, verify_integrity)\u001b[0m\n\u001b[1;32m   4176\u001b[0m                 \u001b[0mnames\u001b[0m\u001b[0;34m.\u001b[0m\u001b[0mappend\u001b[0m\u001b[0;34m(\u001b[0m\u001b[0;32mNone\u001b[0m\u001b[0;34m)\u001b[0m\u001b[0;34m\u001b[0m\u001b[0;34m\u001b[0m\u001b[0m\n\u001b[1;32m   4177\u001b[0m             \u001b[0;32melse\u001b[0m\u001b[0;34m:\u001b[0m\u001b[0;34m\u001b[0m\u001b[0;34m\u001b[0m\u001b[0m\n\u001b[0;32m-> 4178\u001b[0;31m                 \u001b[0mlevel\u001b[0m \u001b[0;34m=\u001b[0m \u001b[0mframe\u001b[0m\u001b[0;34m[\u001b[0m\u001b[0mcol\u001b[0m\u001b[0;34m]\u001b[0m\u001b[0;34m.\u001b[0m\u001b[0m_values\u001b[0m\u001b[0;34m\u001b[0m\u001b[0;34m\u001b[0m\u001b[0m\n\u001b[0m\u001b[1;32m   4179\u001b[0m                 \u001b[0mnames\u001b[0m\u001b[0;34m.\u001b[0m\u001b[0mappend\u001b[0m\u001b[0;34m(\u001b[0m\u001b[0mcol\u001b[0m\u001b[0;34m)\u001b[0m\u001b[0;34m\u001b[0m\u001b[0;34m\u001b[0m\u001b[0m\n\u001b[1;32m   4180\u001b[0m                 \u001b[0;32mif\u001b[0m \u001b[0mdrop\u001b[0m\u001b[0;34m:\u001b[0m\u001b[0;34m\u001b[0m\u001b[0;34m\u001b[0m\u001b[0m\n",
            "\u001b[0;32m/usr/local/lib/python3.6/dist-packages/pandas/core/frame.py\u001b[0m in \u001b[0;36m__getitem__\u001b[0;34m(self, key)\u001b[0m\n\u001b[1;32m   2925\u001b[0m             \u001b[0;32mif\u001b[0m \u001b[0mself\u001b[0m\u001b[0;34m.\u001b[0m\u001b[0mcolumns\u001b[0m\u001b[0;34m.\u001b[0m\u001b[0mnlevels\u001b[0m \u001b[0;34m>\u001b[0m \u001b[0;36m1\u001b[0m\u001b[0;34m:\u001b[0m\u001b[0;34m\u001b[0m\u001b[0;34m\u001b[0m\u001b[0m\n\u001b[1;32m   2926\u001b[0m                 \u001b[0;32mreturn\u001b[0m \u001b[0mself\u001b[0m\u001b[0;34m.\u001b[0m\u001b[0m_getitem_multilevel\u001b[0m\u001b[0;34m(\u001b[0m\u001b[0mkey\u001b[0m\u001b[0;34m)\u001b[0m\u001b[0;34m\u001b[0m\u001b[0;34m\u001b[0m\u001b[0m\n\u001b[0;32m-> 2927\u001b[0;31m             \u001b[0mindexer\u001b[0m \u001b[0;34m=\u001b[0m \u001b[0mself\u001b[0m\u001b[0;34m.\u001b[0m\u001b[0mcolumns\u001b[0m\u001b[0;34m.\u001b[0m\u001b[0mget_loc\u001b[0m\u001b[0;34m(\u001b[0m\u001b[0mkey\u001b[0m\u001b[0;34m)\u001b[0m\u001b[0;34m\u001b[0m\u001b[0;34m\u001b[0m\u001b[0m\n\u001b[0m\u001b[1;32m   2928\u001b[0m             \u001b[0;32mif\u001b[0m \u001b[0mis_integer\u001b[0m\u001b[0;34m(\u001b[0m\u001b[0mindexer\u001b[0m\u001b[0;34m)\u001b[0m\u001b[0;34m:\u001b[0m\u001b[0;34m\u001b[0m\u001b[0;34m\u001b[0m\u001b[0m\n\u001b[1;32m   2929\u001b[0m                 \u001b[0mindexer\u001b[0m \u001b[0;34m=\u001b[0m \u001b[0;34m[\u001b[0m\u001b[0mindexer\u001b[0m\u001b[0;34m]\u001b[0m\u001b[0;34m\u001b[0m\u001b[0;34m\u001b[0m\u001b[0m\n",
            "\u001b[0;32m/usr/local/lib/python3.6/dist-packages/pandas/core/indexes/base.py\u001b[0m in \u001b[0;36mget_loc\u001b[0;34m(self, key, method, tolerance)\u001b[0m\n\u001b[1;32m   2657\u001b[0m                 \u001b[0;32mreturn\u001b[0m \u001b[0mself\u001b[0m\u001b[0;34m.\u001b[0m\u001b[0m_engine\u001b[0m\u001b[0;34m.\u001b[0m\u001b[0mget_loc\u001b[0m\u001b[0;34m(\u001b[0m\u001b[0mkey\u001b[0m\u001b[0;34m)\u001b[0m\u001b[0;34m\u001b[0m\u001b[0;34m\u001b[0m\u001b[0m\n\u001b[1;32m   2658\u001b[0m             \u001b[0;32mexcept\u001b[0m \u001b[0mKeyError\u001b[0m\u001b[0;34m:\u001b[0m\u001b[0;34m\u001b[0m\u001b[0;34m\u001b[0m\u001b[0m\n\u001b[0;32m-> 2659\u001b[0;31m                 \u001b[0;32mreturn\u001b[0m \u001b[0mself\u001b[0m\u001b[0;34m.\u001b[0m\u001b[0m_engine\u001b[0m\u001b[0;34m.\u001b[0m\u001b[0mget_loc\u001b[0m\u001b[0;34m(\u001b[0m\u001b[0mself\u001b[0m\u001b[0;34m.\u001b[0m\u001b[0m_maybe_cast_indexer\u001b[0m\u001b[0;34m(\u001b[0m\u001b[0mkey\u001b[0m\u001b[0;34m)\u001b[0m\u001b[0;34m)\u001b[0m\u001b[0;34m\u001b[0m\u001b[0;34m\u001b[0m\u001b[0m\n\u001b[0m\u001b[1;32m   2660\u001b[0m         \u001b[0mindexer\u001b[0m \u001b[0;34m=\u001b[0m \u001b[0mself\u001b[0m\u001b[0;34m.\u001b[0m\u001b[0mget_indexer\u001b[0m\u001b[0;34m(\u001b[0m\u001b[0;34m[\u001b[0m\u001b[0mkey\u001b[0m\u001b[0;34m]\u001b[0m\u001b[0;34m,\u001b[0m \u001b[0mmethod\u001b[0m\u001b[0;34m=\u001b[0m\u001b[0mmethod\u001b[0m\u001b[0;34m,\u001b[0m \u001b[0mtolerance\u001b[0m\u001b[0;34m=\u001b[0m\u001b[0mtolerance\u001b[0m\u001b[0;34m)\u001b[0m\u001b[0;34m\u001b[0m\u001b[0;34m\u001b[0m\u001b[0m\n\u001b[1;32m   2661\u001b[0m         \u001b[0;32mif\u001b[0m \u001b[0mindexer\u001b[0m\u001b[0;34m.\u001b[0m\u001b[0mndim\u001b[0m \u001b[0;34m>\u001b[0m \u001b[0;36m1\u001b[0m \u001b[0;32mor\u001b[0m \u001b[0mindexer\u001b[0m\u001b[0;34m.\u001b[0m\u001b[0msize\u001b[0m \u001b[0;34m>\u001b[0m \u001b[0;36m1\u001b[0m\u001b[0;34m:\u001b[0m\u001b[0;34m\u001b[0m\u001b[0;34m\u001b[0m\u001b[0m\n",
            "\u001b[0;32mpandas/_libs/index.pyx\u001b[0m in \u001b[0;36mpandas._libs.index.IndexEngine.get_loc\u001b[0;34m()\u001b[0m\n",
            "\u001b[0;32mpandas/_libs/index.pyx\u001b[0m in \u001b[0;36mpandas._libs.index.IndexEngine.get_loc\u001b[0;34m()\u001b[0m\n",
            "\u001b[0;32mpandas/_libs/hashtable_class_helper.pxi\u001b[0m in \u001b[0;36mpandas._libs.hashtable.PyObjectHashTable.get_item\u001b[0;34m()\u001b[0m\n",
            "\u001b[0;32mpandas/_libs/hashtable_class_helper.pxi\u001b[0m in \u001b[0;36mpandas._libs.hashtable.PyObjectHashTable.get_item\u001b[0;34m()\u001b[0m\n",
            "\u001b[0;31mKeyError\u001b[0m: 'parcelid'"
          ]
        }
      ]
    },
    {
      "cell_type": "markdown",
      "metadata": {
        "id": "3wR0agoMjC2h",
        "colab_type": "text"
      },
      "source": [
        "## Start"
      ]
    },
    {
      "cell_type": "code",
      "metadata": {
        "id": "G4QAwzdJdJOb",
        "colab_type": "code",
        "colab": {}
      },
      "source": [
        "import torch\n",
        "import torchvision\n",
        "import torchvision.transforms as transforms"
      ],
      "execution_count": 0,
      "outputs": []
    },
    {
      "cell_type": "code",
      "metadata": {
        "id": "SASWl5v6dQSM",
        "colab_type": "code",
        "colab": {}
      },
      "source": [
        "transform = transforms.Compose([transforms.ToTensor()])\n",
        "\n",
        "trainset = torchvision.datasets.CIFAR10(root='./data', train=True, download=True, transform=transform)\n",
        "trainloader = torch.utils.data.DataLoader(trainset, batch_size=32, shuffle=True, num_workers=2)\n",
        "\n",
        "testset = torchvision.datasets.CIFAR10(root='./data', train=False, download=True, transform=transform)\n",
        "testloader = torch.utils.data.DataLoader(testset, batch_size=32, shuffle=False, num_workers=2)\n",
        "\n",
        "classes = ('plane', 'car', 'bird', 'cat', 'deer', 'dog', 'frog', 'horse', 'ship', 'truck')"
      ],
      "execution_count": 0,
      "outputs": []
    }
  ]
}